{
 "cells": [
  {
   "cell_type": "code",
   "execution_count": 1,
   "metadata": {
    "collapsed": true
   },
   "outputs": [],
   "source": [
    "import sklearn\n",
    "import numpy as np\n",
    "import pandas as pd\n",
    "import matplotlib.pyplot as plt"
   ]
  },
  {
   "cell_type": "code",
   "execution_count": 2,
   "metadata": {},
   "outputs": [
    {
     "name": "stdout",
     "output_type": "stream",
     "text": [
      "Keys of iris _datasets:\n",
      " dict_keys(['data', 'target', 'target_names', 'DESCR', 'feature_names'])\n",
      "Iris Plants Database\n",
      "====================\n",
      "\n",
      "Notes\n",
      "-----\n",
      "Data Set Characteristics:\n",
      "    :Number of Instances: 150 (50 in each of three classes)\n",
      "    :Number of Attributes: 4 numeric, predictive att\n",
      "....\n",
      "Target names :['setosa' 'versicolor' 'virginica']\n",
      "Feature names :['sepal length (cm)', 'sepal width (cm)', 'petal length (cm)', 'petal width (cm)']\n",
      "Type of data: <class 'numpy.ndarray'>\n",
      "Shape of data: (150, 4)\n",
      "Type of target:<class 'numpy.ndarray'>\n",
      "Shape of target:(150,)\n"
     ]
    }
   ],
   "source": [
    "from sklearn.datasets import load_iris\n",
    "data=load_iris()\n",
    "print(\"Keys of iris _datasets:\\n {}\".format(data.keys()))\n",
    "print(data['DESCR'][:193]+ \"\\n....\")\n",
    "print(\"Target names :{}\".format(data['target_names']))\n",
    "print(\"Feature names :{}\".format(data['feature_names']))\n",
    "print(\"Type of data: {}\".format(type(data['data'])))\n",
    "print(\"Shape of data: {}\".format(data['data'].shape))\n",
    "print(\"Type of target:{}\".format(type(data['target'])))\n",
    "print(\"Shape of target:{}\".format(data['target'].shape))"
   ]
  },
  {
   "cell_type": "code",
   "execution_count": 5,
   "metadata": {
    "collapsed": true
   },
   "outputs": [],
   "source": [
    "from sklearn.model_selection import train_test_split\n",
    "X_train,X_test,Y_train,Y_test=train_test_split(data['data'],data['target'],random_state=0)"
   ]
  },
  {
   "cell_type": "code",
   "execution_count": 7,
   "metadata": {},
   "outputs": [
    {
     "name": "stdout",
     "output_type": "stream",
     "text": [
      "Training Score:0.6964285714285714\n",
      "Test Score:0.5789473684210527\n",
      "Training Score:0.9642857142857143\n",
      "Test Score:0.8947368421052632\n",
      "Training Score:0.9821428571428571\n",
      "Test Score:0.9736842105263158\n",
      "Training Score:1.0\n",
      "Test Score:0.9736842105263158\n",
      "Training Score:1.0\n",
      "Test Score:0.9736842105263158\n",
      "Training Score:1.0\n",
      "Test Score:0.9736842105263158\n",
      "Training Score:1.0\n",
      "Test Score:0.9736842105263158\n",
      "Training Score:1.0\n",
      "Test Score:0.9736842105263158\n",
      "Training Score:1.0\n",
      "Test Score:0.9736842105263158\n",
      "Training Score:1.0\n",
      "Test Score:0.9736842105263158\n",
      "Training Score:1.0\n",
      "Test Score:0.9736842105263158\n",
      "Training Score:1.0\n",
      "Test Score:0.9736842105263158\n",
      "Training Score:1.0\n",
      "Test Score:0.9736842105263158\n",
      "Training Score:1.0\n",
      "Test Score:0.9736842105263158\n",
      "Training Score:1.0\n",
      "Test Score:0.9736842105263158\n",
      "Training Score:1.0\n",
      "Test Score:0.9736842105263158\n",
      "Training Score:1.0\n",
      "Test Score:0.9736842105263158\n",
      "Training Score:1.0\n",
      "Test Score:0.9736842105263158\n",
      "Training Score:1.0\n",
      "Test Score:0.9736842105263158\n"
     ]
    },
    {
     "data": {
      "image/png": "[encoded data removed]",
      "text/plain": [
       "<Figure size 432x288 with 1 Axes>"
      ]
     },
     "metadata": {},
     "output_type": "display_data"
    }
   ],
   "source": [
    "from sklearn.tree import DecisionTreeClassifier\n",
    "i=range(1,20)\n",
    "training_accuracy=[]\n",
    "test_accuracy=[]\n",
    "for a in i:\n",
    "    DTR=DecisionTreeClassifier(max_depth=a,random_state=0)\n",
    "    DTR.fit(X_train,Y_train)\n",
    "    print(\"Training Score:{}\".format(DTR.score(X_train,Y_train)))\n",
    "    print(\"Test Score:{}\".format(DTR.score(X_test,Y_test)))\n",
    "    training_accuracy.append(DTR.score(X_train,Y_train))\n",
    "    test_accuracy.append(DTR.score(X_test,Y_test))\n",
    "plt.plot(i,training_accuracy,label=\"training accuracy\")\n",
    "plt.plot(i,test_accuracy,label=\"test accuracy\")\n",
    "plt.ylabel(\"Aacuracy\")\n",
    "plt.xlabel(\"Max depth\")\n",
    "plt.legend()\n",
    "plt.show()"
   ]
  },
  {
   "cell_type": "code",
   "execution_count": 11,
   "metadata": {},
   "outputs": [
    {
     "name": "stdout",
     "output_type": "stream",
     "text": [
      "Training Score:1.0\n",
      "Test Score:0.9736842105263158\n",
      "Training Score:0.9642857142857143\n",
      "Test Score:0.9736842105263158\n",
      "Training Score:0.9642857142857143\n",
      "Test Score:0.9736842105263158\n",
      "Training Score:0.9732142857142857\n",
      "Test Score:0.9736842105263158\n",
      "Training Score:0.9732142857142857\n",
      "Test Score:0.9736842105263158\n",
      "Training Score:0.9642857142857143\n",
      "Test Score:0.9736842105263158\n",
      "Training Score:0.9732142857142857\n",
      "Test Score:0.9736842105263158\n",
      "Training Score:0.9732142857142857\n",
      "Test Score:0.9736842105263158\n",
      "Training Score:0.9642857142857143\n",
      "Test Score:0.9736842105263158\n",
      "Training Score:0.9732142857142857\n",
      "Test Score:0.9736842105263158\n",
      "Training Score:0.9642857142857143\n",
      "Test Score:0.9736842105263158\n",
      "Training Score:0.9732142857142857\n",
      "Test Score:0.9736842105263158\n",
      "Training Score:0.9642857142857143\n",
      "Test Score:0.9736842105263158\n",
      "Training Score:0.9642857142857143\n",
      "Test Score:0.9736842105263158\n",
      "Training Score:0.9642857142857143\n",
      "Test Score:0.9736842105263158\n",
      "Training Score:0.9642857142857143\n",
      "Test Score:0.9736842105263158\n",
      "Training Score:0.9642857142857143\n",
      "Test Score:0.9736842105263158\n",
      "Training Score:0.9642857142857143\n",
      "Test Score:0.9736842105263158\n",
      "Training Score:0.9642857142857143\n",
      "Test Score:0.9736842105263158\n"
     ]
    },
    {
     "data": {
      "image/png": "[encoded data removed]",
      "text/plain": [
       "<Figure size 432x288 with 1 Axes>"
      ]
     },
     "metadata": {},
     "output_type": "display_data"
    }
   ],
   "source": [
    "from sklearn.neighbors import KNeighborsClassifier\n",
    "i=range(1,20)\n",
    "training_accuracy=[]\n",
    "test_accuracy=[]\n",
    "for a in i:\n",
    "    KNN=KNeighborsClassifier(n_neighbors=a)\n",
    "    KNN.fit(X_train,Y_train)\n",
    "    print(\"Training Score:{}\".format(KNN.score(X_train,Y_train)))\n",
    "    print(\"Test Score:{}\".format(KNN.score(X_test,Y_test)))\n",
    "    training_accuracy.append(KNN.score(X_train,Y_train))\n",
    "    test_accuracy.append(KNN.score(X_test,Y_test))\n",
    "plt.plot(i,training_accuracy,label=\"training accuracy\")\n",
    "plt.plot(i,test_accuracy,label=\"test accuracy\")\n",
    "plt.ylabel(\"Aacuracy\")\n",
    "plt.xlabel(\"Neighbors\")\n",
    "plt.legend()\n",
    "plt.show()"
   ]
  },
  {
   "cell_type": "code",
   "execution_count": 13,
   "metadata": {},
   "outputs": [
    {
     "name": "stdout",
     "output_type": "stream",
     "text": [
      "Training Score:0.9821428571428571\n",
      "Test Score:0.9210526315789473\n"
     ]
    }
   ],
   "source": [
    "from sklearn.svm import LinearSVC\n",
    "lSVC=LinearSVC().fit(X_train,Y_train)\n",
    "print(\"Training Score:{}\".format(lSVC.score(X_train,Y_train)))\n",
    "print(\"Test Score:{}\".format(lSVC.score(X_test,Y_test)))"
   ]
  },
  {
   "cell_type": "code",
   "execution_count": 14,
   "metadata": {},
   "outputs": [
    {
     "name": "stdout",
     "output_type": "stream",
     "text": [
      "Training Score:0.9464285714285714\n",
      "Test Score:1.0\n"
     ]
    }
   ],
   "source": [
    "from sklearn.naive_bayes import GaussianNB\n",
    "clf = GaussianNB()\n",
    "clf.fit(X_train, Y_train)\n",
    "print(\"Training Score:{}\".format(clf.score(X_train,Y_train)))\n",
    "print(\"Test Score:{}\".format(clf.score(X_test,Y_test)))"
   ]
  },
  {
   "cell_type": "code",
   "execution_count": 15,
   "metadata": {},
   "outputs": [
    {
     "name": "stdout",
     "output_type": "stream",
     "text": [
      "Training Score:0.36607142857142855\n",
      "Test Score:0.23684210526315788\n"
     ]
    }
   ],
   "source": [
    "from sklearn.naive_bayes import BernoulliNB\n",
    "clf = BernoulliNB()\n",
    "clf.fit(X_train, Y_train)\n",
    "print(\"Training Score:{}\".format(clf.score(X_train,Y_train)))\n",
    "print(\"Test Score:{}\".format(clf.score(X_test,Y_test)))"
   ]
  },
  {
   "cell_type": "code",
   "execution_count": 16,
   "metadata": {},
   "outputs": [
    {
     "name": "stdout",
     "output_type": "stream",
     "text": [
      "Training Score:0.7053571428571429\n",
      "Test Score:0.5789473684210527\n"
     ]
    }
   ],
   "source": [
    "from sklearn.naive_bayes import MultinomialNB\n",
    "clf =  MultinomialNB()\n",
    "clf.fit(X_train, Y_train)\n",
    "print(\"Training Score:{}\".format(clf.score(X_train,Y_train)))\n",
    "print(\"Test Score:{}\".format(clf.score(X_test,Y_test)))"
   ]
  },
  {
   "cell_type": "code",
   "execution_count": 18,
   "metadata": {},
   "outputs": [
    {
     "name": "stderr",
     "output_type": "stream",
     "text": [
      "C:\\Users\\HP-1\\Anaconda3\\lib\\site-packages\\sklearn\\ensemble\\weight_boosting.py:29: DeprecationWarning: numpy.core.umath_tests is an internal NumPy module and should not be imported. It will be removed in a future NumPy release.\n",
      "  from numpy.core.umath_tests import inner1d\n"
     ]
    },
    {
     "name": "stdout",
     "output_type": "stream",
     "text": [
      "Training Score:0.9642857142857143\n",
      "Test Score:0.9736842105263158\n",
      "Training Score:0.9375\n",
      "Test Score:0.9210526315789473\n",
      "Training Score:0.9910714285714286\n",
      "Test Score:0.9736842105263158\n",
      "Training Score:0.9821428571428571\n",
      "Test Score:0.9473684210526315\n",
      "Training Score:0.9910714285714286\n",
      "Test Score:0.9736842105263158\n",
      "Training Score:0.9910714285714286\n",
      "Test Score:0.9736842105263158\n",
      "Training Score:0.9910714285714286\n",
      "Test Score:0.9736842105263158\n",
      "Training Score:0.9910714285714286\n",
      "Test Score:0.9736842105263158\n",
      "Training Score:0.9910714285714286\n",
      "Test Score:0.9736842105263158\n",
      "Training Score:0.9910714285714286\n",
      "Test Score:0.9736842105263158\n",
      "Training Score:0.9910714285714286\n",
      "Test Score:0.9736842105263158\n",
      "Training Score:0.9910714285714286\n",
      "Test Score:0.9736842105263158\n",
      "Training Score:0.9910714285714286\n",
      "Test Score:0.9736842105263158\n",
      "Training Score:0.9910714285714286\n",
      "Test Score:0.9736842105263158\n",
      "Training Score:1.0\n",
      "Test Score:0.9736842105263158\n",
      "Training Score:0.9910714285714286\n",
      "Test Score:0.9736842105263158\n",
      "Training Score:0.9910714285714286\n",
      "Test Score:0.9736842105263158\n",
      "Training Score:0.9910714285714286\n",
      "Test Score:0.9736842105263158\n",
      "Training Score:0.9910714285714286\n",
      "Test Score:0.9736842105263158\n"
     ]
    },
    {
     "data": {
      "image/png": "[encoded data removed]",
      "text/plain": [
       "<Figure size 432x288 with 1 Axes>"
      ]
     },
     "metadata": {},
     "output_type": "display_data"
    }
   ],
   "source": [
    "from sklearn.ensemble import RandomForestClassifier\n",
    "i=range(1,20)\n",
    "training_accuracy=[]\n",
    "test_accuracy=[]\n",
    "for a in i:\n",
    "    DTR=RandomForestClassifier(n_estimators=a,random_state=0)\n",
    "    DTR.fit(X_train,Y_train)\n",
    "    print(\"Training Score:{}\".format(DTR.score(X_train,Y_train)))\n",
    "    print(\"Test Score:{}\".format(DTR.score(X_test,Y_test)))\n",
    "    training_accuracy.append(DTR.score(X_train,Y_train))\n",
    "    test_accuracy.append(DTR.score(X_test,Y_test))\n",
    "plt.plot(i,training_accuracy,label=\"training accuracy\")\n",
    "plt.plot(i,test_accuracy,label=\"test accuracy\")\n",
    "plt.ylabel(\"Aacuracy\")\n",
    "plt.xlabel(\"Max depth\")\n",
    "plt.legend()\n",
    "plt.show()"
   ]
  },
  {
   "cell_type": "code",
   "execution_count": null,
   "metadata": {
    "collapsed": true
   },
   "outputs": [],
   "source": []
  }
 ],
 "metadata": {
  "kernelspec": {
   "display_name": "Python 3",
   "language": "python",
   "name": "python3"
  },
  "language_info": {
   "codemirror_mode": {
    "name": "ipython",
    "version": 3
   },
   "file_extension": ".py",
   "mimetype": "text/x-python",
   "name": "python",
   "nbconvert_exporter": "python",
   "pygments_lexer": "ipython3",
   "version": "3.6.7"
  }
 },
 "nbformat": 4,
 "nbformat_minor": 2
}
